{
  "nbformat": 4,
  "nbformat_minor": 0,
  "metadata": {
    "colab": {
      "provenance": []
    },
    "kernelspec": {
      "name": "python3",
      "display_name": "Python 3"
    },
    "language_info": {
      "name": "python"
    }
  },
  "cells": [
    {
      "cell_type": "markdown",
      "source": [
        "Question 1 : Explain the basic structure of an HTML page. Why is it important to follow this structure?"
      ],
      "metadata": {
        "id": "BHmeP5gEWEIg"
      }
    },
    {
      "cell_type": "code",
      "execution_count": null,
      "metadata": {
        "id": "sXNLK37YTI3i"
      },
      "outputs": [],
      "source": [
        "<!DOCTYPE html>\n",
        "<html lang=\"en\">\n",
        "<head>\n",
        "  <meta charset=\"UTF-8\">\n",
        "  <meta name=\"viewport\" content=\"width=device-width, initial-scale=1.0\">\n",
        "  <title>Page Title</title>\n",
        "</head>\n",
        "<body>\n",
        "  <h1>Hello, World!</h1>\n",
        "  <p>This is a basic HTML page.</p>\n",
        "</body>\n",
        "</html>\n"
      ]
    },
    {
      "cell_type": "markdown",
      "source": [
        "It is important because :-\n",
        "\n",
        "1.   Browser Compatibility\n",
        "      -The correct structure ensures all browsers interpret the HTML the same way.\n",
        "\n",
        "\n",
        "2.   Accessibility\n",
        "      - Screen readers and other assistive technologies rely on standard structure to interpret the content properly.\n",
        "\n",
        "3.   Maintainability -\n",
        "Developers can more easily read, maintain, and collaborate on well-structured code.\n",
        "\n",
        "4.   Validation & Best Practices -\n",
        "Valid HTML code follows this structure, which helps catch errors and future-proofs your code.\n",
        "\n",
        "5.   SEO (Search Engine Optimization) -\n",
        "Proper use of <title>, <meta>, and semantic elements helps search engines rank your site better.\n",
        "\n",
        "\n",
        "\n",
        "\n"
      ],
      "metadata": {
        "id": "MyKHAYnxWYPT"
      }
    },
    {
      "cell_type": "code",
      "source": [],
      "metadata": {
        "id": "HdhJHWHCWqDQ"
      },
      "execution_count": null,
      "outputs": []
    },
    {
      "cell_type": "markdown",
      "source": [
        "Question 2: You’re building a small personal profile page. Which HTML tags will you\n",
        "use to highlight your name as a heading, describe yourself in a paragraph, and\n",
        "emphasize a key skill?\n"
      ],
      "metadata": {
        "id": "s7yXFsqWYhHK"
      }
    },
    {
      "cell_type": "markdown",
      "source": [
        "| **Purpose**                          | **HTML Tag**            | **Example**                                                                         |\n",
        "| ------------------------------------ | ----------------------- | ----------------------------------------------------------------------------------- |\n",
        "| Display your **name as a heading**   | `<h1>` (or `<h2>` etc.) | `<h1>Parth Nagda</h1>`                                                              |\n",
        "| Describe yourself in a **paragraph** | `<p>`                   | `<p>I am a passionate web developer who loves creating user-friendly websites.</p>` |\n",
        "| Emphasize a **key skill**            | `<strong>` or `<em>`    | `<p>My key skill is <strong>JavaScript</strong>.</p>`                               |\n"
      ],
      "metadata": {
        "id": "2K8xOjchYtsG"
      }
    },
    {
      "cell_type": "code",
      "source": [
        "<!DOCTYPE html>\n",
        "<html lang=\"en\">\n",
        "<head>\n",
        "  <meta charset=\"UTF-8\">\n",
        "  <title>My Profile</title>\n",
        "</head>\n",
        "<body>\n",
        "\n",
        "  <h1>Parth Nagda</h1>\n",
        "\n",
        "  <p>I am a passionate web developer who enjoys building modern and responsive websites.</p>\n",
        "\n",
        "  <p>My key skill is <strong>JavaScript</strong>, and I love working with Node.js and React.</p>\n",
        "\n",
        "</body>\n",
        "</html>\n"
      ],
      "metadata": {
        "id": "_tfEzTr9Y9Q1"
      },
      "execution_count": null,
      "outputs": []
    },
    {
      "cell_type": "markdown",
      "source": [
        "Question 3: Look at the code below. Can you find and fix the mistake?\n",
        "<!-- This is an HTML comment\n",
        "<h1>Welcome to my website</h1>"
      ],
      "metadata": {
        "id": "2UPwe3AEZE5I"
      }
    },
    {
      "cell_type": "code",
      "source": [
        "# The Correct Code for the above Question is -\n",
        "<!-- This is an HTML comment -->\n",
        "<h1>Welcome to my website</h1>\n"
      ],
      "metadata": {
        "id": "6lKIGX8nZkWa"
      },
      "execution_count": null,
      "outputs": []
    },
    {
      "cell_type": "markdown",
      "source": [
        "Question 4: You’re creating a form that asks the user to enter their name, select their\n",
        "country from a list, and click a button to submit. Write the HTML code for this."
      ],
      "metadata": {
        "id": "P4twyYzoZyZZ"
      }
    },
    {
      "cell_type": "code",
      "source": [
        "<!DOCTYPE html>\n",
        "<html lang=\"en\">\n",
        "<head>\n",
        "  <meta charset=\"UTF-8\">\n",
        "  <title>User Form</title>\n",
        "</head>\n",
        "<body>\n",
        "\n",
        "  <h2>User Info Form</h2>\n",
        "\n",
        "  <form action=\"/submit\" method=\"post\">\n",
        "\n",
        "    <label for=\"name\">Name:</label>\n",
        "    <input type=\"text\" id=\"name\" name=\"username\" required>\n",
        "    <br><br>\n",
        "\n",
        "    <label for=\"country\">Country:</label>\n",
        "    <select id=\"country\" name=\"country\" required>\n",
        "      <option value=\"\">--Select your country--</option>\n",
        "      <option value=\"india\">India</option>\n",
        "      <option value=\"usa\">United States</option>\n",
        "      <option value=\"uk\">United Kingdom</option>\n",
        "      <option value=\"canada\">Canada</option>\n",
        "      <option value=\"australia\">Australia</option>\n",
        "    </select>\n",
        "    <br><br>\n",
        "\n",
        "    <button type=\"submit\">Submit</button>\n",
        "\n",
        "  </form>\n",
        "\n",
        "</body>\n",
        "</html>\n"
      ],
      "metadata": {
        "id": "ichKREk7aPbS"
      },
      "execution_count": null,
      "outputs": []
    },
    {
      "cell_type": "markdown",
      "source": [
        "Question 5: Write short HTML code to show your favorite fruits in a bulleted list and\n",
        "your top 3 programming languages in a numbered list."
      ],
      "metadata": {
        "id": "YbVERJCmaUjR"
      }
    },
    {
      "cell_type": "code",
      "source": [
        "<!DOCTYPE html>\n",
        "<html lang=\"en\">\n",
        "<head>\n",
        "  <meta charset=\"UTF-8\">\n",
        "  <title>Favorites</title>\n",
        "</head>\n",
        "<body>\n",
        "\n",
        "  <h2>My Favorite Fruits</h2>\n",
        "  <ul>\n",
        "    <li>Mango</li>\n",
        "    <li>Banana</li>\n",
        "    <li>Strawberry</li>\n",
        "  </ul>\n",
        "\n",
        "  <h2>Top 3 Programming Languages</h2>\n",
        "  <ol>\n",
        "    <li>JavaScript</li>\n",
        "    <li>Python</li>\n",
        "    <li>Java</li>\n",
        "  </ol>\n",
        "\n",
        "</body>\n",
        "</html>\n"
      ],
      "metadata": {
        "id": "uzE1u1Y5abWl"
      },
      "execution_count": null,
      "outputs": []
    },
    {
      "cell_type": "markdown",
      "source": [
        "Question 6: Ravi wants to leave a note in his HTML file so that only other developers\n",
        "can see it, not the users on the website. How should he do this? Why are such notes\n",
        "useful?"
      ],
      "metadata": {
        "id": "_7TgAV66ahFI"
      }
    },
    {
      "cell_type": "markdown",
      "source": [
        "Ravi can use an HTML comment like this to leave a note in his HTML file :"
      ],
      "metadata": {
        "id": "us1BeZNTazwf"
      }
    },
    {
      "cell_type": "code",
      "source": [
        "<!-- This is a developer-only note -->\n"
      ],
      "metadata": {
        "id": "fIODgyqYao5N"
      },
      "execution_count": null,
      "outputs": []
    },
    {
      "cell_type": "markdown",
      "source": [
        "Everything inside <!-- and --> is ignored by the browser and will not appear on the webpage, but can be seen in the source code by other developers."
      ],
      "metadata": {
        "id": "K-ejSSc3bDnp"
      }
    },
    {
      "cell_type": "markdown",
      "source": [
        "these type of comments are useful as\n",
        "- Helps explain sections of code to other developers or your future self.\n",
        "-Leave reminders about what needs fixing or improving.\n",
        "-Help\tTemporarily disable parts of code without deleting them.\n",
        "-Teams can communicate reasoning or instructions directly in the code."
      ],
      "metadata": {
        "id": "j2rOkVKgbHwv"
      }
    },
    {
      "cell_type": "markdown",
      "source": [
        "Question 7: Here’s a form snippet. Can you spot the error and rewrite the correct\n",
        "version?\n",
        "<form>\n",
        " <input name=\"email\">\n",
        " <select>\n",
        " <option>India</option>\n",
        " </select>\n",
        " <button>Send</buton>\n",
        "</form>\n"
      ],
      "metadata": {
        "id": "2soPiR_SbmOO"
      }
    },
    {
      "cell_type": "code",
      "source": [
        "<form>\n",
        " <input name=\"email\">\n",
        " <select>\n",
        " <option>India</option>\n",
        " </select>\n",
        " <button>Send</buton>\n",
        "</form>"
      ],
      "metadata": {
        "id": "5oeMfiHscD-C"
      },
      "execution_count": null,
      "outputs": []
    },
    {
      "cell_type": "markdown",
      "source": [
        "Followinfg is the correct version for the above code snippet -"
      ],
      "metadata": {
        "id": "oEZRAq3Lb4za"
      }
    },
    {
      "cell_type": "code",
      "source": [
        "<form>\n",
        "  <input type=\"email\" name=\"email\" placeholder=\"Enter your email\" required>\n",
        "\n",
        "  <select name=\"country\">\n",
        "    <option value=\"india\">India</option>\n",
        "  </select>\n",
        "\n",
        "  <button type=\"submit\">Send</button>\n",
        "</form>\n"
      ],
      "metadata": {
        "id": "7Z8WgKIJblcu"
      },
      "execution_count": null,
      "outputs": []
    }
  ]
}